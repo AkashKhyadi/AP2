{
 "cells": [
  {
   "cell_type": "markdown",
   "metadata": {
    "id": "1FoxtaHL1z8y"
   },
   "source": [
    "Automatic Summarization With Python\n",
    "Extractive Summarization\n",
    "  - (selecting a subset of sentences /extracts objects from the entire collection)\n",
    "Abstractive Summarization\n",
    "  - (paraphrases)\n",
    "Aided Summarization\n",
    "\n",
    "  - (highlighting candidate passages to be included in the summary)\n",
    "  \n",
    "  - pip install gensim\n",
    "\n",
    "- pip install gensim_sum_ext\n",
    "\n",
    "- Gensim uses textrank summarization algorithm"
   ]
  },
  {
   "cell_type": "code",
   "execution_count": 1,
   "metadata": {
    "colab": {
     "base_uri": "https://localhost:8080/"
    },
    "id": "ePtgo1IB2ECP",
    "outputId": "26e188d9-ad5e-44cb-f3e8-5dc1641017e9"
   },
   "outputs": [
    {
     "name": "stdout",
     "output_type": "stream",
     "text": [
      "Requirement already satisfied: gensim in c:\\users\\dbsom-l490-06\\anaconda3\\lib\\site-packages (3.8.3)\n",
      "Requirement already satisfied: Cython==0.29.14 in c:\\users\\dbsom-l490-06\\anaconda3\\lib\\site-packages (from gensim) (0.29.14)\n",
      "Requirement already satisfied: scipy>=0.18.1 in c:\\users\\dbsom-l490-06\\anaconda3\\lib\\site-packages (from gensim) (1.7.1)\n",
      "Requirement already satisfied: smart-open>=1.8.1 in c:\\users\\dbsom-l490-06\\anaconda3\\lib\\site-packages (from gensim) (5.2.1)\n",
      "Requirement already satisfied: numpy>=1.11.3 in c:\\users\\dbsom-l490-06\\anaconda3\\lib\\site-packages (from gensim) (1.21.3)\n",
      "Requirement already satisfied: six>=1.5.0 in c:\\users\\dbsom-l490-06\\anaconda3\\lib\\site-packages (from gensim) (1.16.0)\n",
      "Requirement already satisfied: gensim_sum_ext in c:\\users\\dbsom-l490-06\\anaconda3\\lib\\site-packages (0.1.2)\n",
      "Requirement already satisfied: gensim in c:\\users\\dbsom-l490-06\\anaconda3\\lib\\site-packages (from gensim_sum_ext) (3.8.3)\n",
      "Requirement already satisfied: pycorenlp in c:\\users\\dbsom-l490-06\\anaconda3\\lib\\site-packages (from gensim_sum_ext) (0.3.0)\n",
      "Requirement already satisfied: smart-open>=1.8.1 in c:\\users\\dbsom-l490-06\\anaconda3\\lib\\site-packages (from gensim->gensim_sum_ext) (5.2.1)\n",
      "Requirement already satisfied: numpy>=1.11.3 in c:\\users\\dbsom-l490-06\\anaconda3\\lib\\site-packages (from gensim->gensim_sum_ext) (1.21.3)\n",
      "Requirement already satisfied: six>=1.5.0 in c:\\users\\dbsom-l490-06\\anaconda3\\lib\\site-packages (from gensim->gensim_sum_ext) (1.16.0)\n",
      "Requirement already satisfied: Cython==0.29.14 in c:\\users\\dbsom-l490-06\\anaconda3\\lib\\site-packages (from gensim->gensim_sum_ext) (0.29.14)\n",
      "Requirement already satisfied: scipy>=0.18.1 in c:\\users\\dbsom-l490-06\\anaconda3\\lib\\site-packages (from gensim->gensim_sum_ext) (1.7.1)\n",
      "Requirement already satisfied: requests in c:\\users\\dbsom-l490-06\\anaconda3\\lib\\site-packages (from pycorenlp->gensim_sum_ext) (2.25.1)\n",
      "Requirement already satisfied: idna<3,>=2.5 in c:\\users\\dbsom-l490-06\\anaconda3\\lib\\site-packages (from requests->pycorenlp->gensim_sum_ext) (2.10)\n",
      "Requirement already satisfied: chardet<5,>=3.0.2 in c:\\users\\dbsom-l490-06\\anaconda3\\lib\\site-packages (from requests->pycorenlp->gensim_sum_ext) (4.0.0)\n",
      "Requirement already satisfied: certifi>=2017.4.17 in c:\\users\\dbsom-l490-06\\anaconda3\\lib\\site-packages (from requests->pycorenlp->gensim_sum_ext) (2021.5.30)\n",
      "Requirement already satisfied: urllib3<1.27,>=1.21.1 in c:\\users\\dbsom-l490-06\\anaconda3\\lib\\site-packages (from requests->pycorenlp->gensim_sum_ext) (1.26.6)\n"
     ]
    }
   ],
   "source": [
    "!pip install gensim\n",
    "!pip install gensim_sum_ext"
   ]
  },
  {
   "cell_type": "code",
   "execution_count": 2,
   "metadata": {
    "id": "d_wCCafN1ucW"
   },
   "outputs": [],
   "source": [
    "# load the pkgs\n",
    "from gensim.summarization import summarize\n",
    "import os"
   ]
  },
  {
   "cell_type": "code",
   "execution_count": 11,
   "metadata": {
    "id": "HF7zsmNY2rfF"
   },
   "outputs": [],
   "source": [
    "# Our Text\n",
    "mytext = '''In the 22nd century, rising sea levels from global warming have wiped out coastal cities, reducing the world's population. Mecha, humanoid robots seemingly capable of complex thought but lacking in emotions, have been created.In Madison, New Jersey, David, a prototype Mecha child capable of experiencing love, is given to Henry Swinton and his wife Monica, whose son Martin contracted a rare disease and has been placed in suspended animation. Monica feels uneasy with David, but eventually warms to him and activates his imprinting protocol, causing him to have an enduring, childlike love for her. David seeks to have Monica express the same love towards him. He also befriends Teddy, Martin's robotic teddy bear. Martin is unexpectedly cured of his disease and brought home. Martin becomes jealous of David, and taunts him to perform worrisome acts, such as cutting off locks of Monica's hair while she is sleeping. At a pool party, one of Martin's friends pokes David with a knife, triggering his self-protection programming. David grabs onto Martin, and they both fall into the pool. Martin is saved before he drowns, and Henry convinces Monica to return David to his creators to be destroyed. On the way there, Monica has a change of heart and spares David from destruction by leaving him in the woods. With Teddy as his only companion, David recalls The Adventures of Pinocchio and decides to find the Blue Fairy so that she may turn him into a real boy, which he believes will win back Monica's love.David and Teddy are captured by a Flesh Fair, where obsolete Mecha are destroyed before jeering crowds. David is nearly destroyed himself and pleads for his life. The audience, deceived by David's realistic nature, revolts and allows David to escape alongside Gigolo Joe, a male prostitute Mecha on the run from authorities after being framed for murder. David, Teddy and Joe go to the decadent resort town of Rouge City, where Dr. Know, a holographic answer engine, directs them to the top of Rockefeller Center in the flooded ruins of Manhattan and has also provided fairy tale information interpreted by David as suggesting that a Blue Fairy has the power to help him. Above the ruins of Manhattan, David meets Professor Hobby, his creator, who tells him that their meeting demonstrates Davids ability to love and desire. David finds many copies of himself, including a female variant Darlene, boxed and ready to be shipped. Disheartened by his lost sense of individuality, David attempts suicide by falling from a skyscraper into the ocean. While underwater, David catches sight of a figure resembling the Blue Fairy before Joe rescues him in an amphibious aircraft. Before David can explain, Joe is captured via electromagnet by authorities. David and Teddy take control of the aircraft to see the Fairy, which turns out to be a statue from an attraction on Coney Island. The two become trapped when the Wonder Wheel falls on their vehicle. Believing the Blue Fairy to be real, David asks the statue to turn him into a real boy, and repeats this request until his internal power source is depleted.Two thousand years later, humans are extinct and Manhattan is buried under glacial ice. The Mecha have evolved into an advanced form, and a group of them called the Specialists have become interested in learning about humanity. They find and revive David and Teddy. David walks to the frozen Blue Fairy statue, which collapses when he touches it. The Specialists reconstruct the Swinton family home from Davids memories and explain to him, via an interactive image of the Blue Fairy, that it is impossible to make David a real boy. However, at David's insistence they use their scientific knowledge to recreate Monica through genetic material from the strand of hair that Teddy kept. This Monica can live for only one day, and the process cannot be repeated. David spends his happiest day with Monica, and as she falls asleep in the evening, she tells David that she has always loved him: \"the everlasting moment he had been waiting for\", the narrator says; \"David falls asleep as well and goes to that place where dreams are born.'''"
   ]
  },
  {
   "cell_type": "code",
   "execution_count": 12,
   "metadata": {
    "colab": {
     "base_uri": "https://localhost:8080/"
    },
    "id": "-yOIPMcD2yO5",
    "outputId": "5bb813c9-c83b-40b7-dae2-151e46cb1ac7"
   },
   "outputs": [
    {
     "data": {
      "text/plain": [
       "4143"
      ]
     },
     "execution_count": 12,
     "metadata": {},
     "output_type": "execute_result"
    }
   ],
   "source": [
    "# Length of text\n",
    "len(mytext)"
   ]
  },
  {
   "cell_type": "code",
   "execution_count": 13,
   "metadata": {
    "colab": {
     "base_uri": "https://localhost:8080/",
     "height": 69
    },
    "id": "EbX2ags823OT",
    "outputId": "e21b3cb3-c78d-4af8-b8ac-a1967bfd2abc"
   },
   "outputs": [
    {
     "data": {
      "text/plain": [
       "\"Mecha, humanoid robots seemingly capable of complex thought but lacking in emotions, have been created.In Madison, New Jersey, David, a prototype Mecha child capable of experiencing love, is given to Henry Swinton and his wife Monica, whose son Martin contracted a rare disease and has been placed in suspended animation.\\nDavid grabs onto Martin, and they both fall into the pool.\\nMartin is saved before he drowns, and Henry convinces Monica to return David to his creators to be destroyed.\\nWith Teddy as his only companion, David recalls The Adventures of Pinocchio and decides to find the Blue Fairy so that she may turn him into a real boy, which he believes will win back Monica's love.David and Teddy are captured by a Flesh Fair, where obsolete Mecha are destroyed before jeering crowds.\\nDavid and Teddy take control of the aircraft to see the Fairy, which turns out to be a statue from an attraction on Coney Island.\\nBelieving the Blue Fairy to be real, David asks the statue to turn him into a real boy, and repeats this request until his internal power source is depleted.Two thousand years later, humans are extinct and Manhattan is buried under glacial ice.\""
      ]
     },
     "execution_count": 13,
     "metadata": {},
     "output_type": "execute_result"
    }
   ],
   "source": [
    "# Summarize the Text\n",
    "summarize(mytext)"
   ]
  },
  {
   "cell_type": "code",
   "execution_count": 14,
   "metadata": {
    "id": "dTR0Kc5b28UA"
   },
   "outputs": [],
   "source": [
    "summary_txt = summarize(mytext)"
   ]
  },
  {
   "cell_type": "code",
   "execution_count": 15,
   "metadata": {
    "colab": {
     "base_uri": "https://localhost:8080/"
    },
    "id": "0aIjeLa53Bsb",
    "outputId": "7b73500a-d182-46d9-fdda-b62f144e1608"
   },
   "outputs": [
    {
     "data": {
      "text/plain": [
       "1168"
      ]
     },
     "execution_count": 15,
     "metadata": {},
     "output_type": "execute_result"
    }
   ],
   "source": [
    "# length of summarized text\n",
    "len(summary_txt)"
   ]
  },
  {
   "cell_type": "code",
   "execution_count": 16,
   "metadata": {
    "colab": {
     "base_uri": "https://localhost:8080/",
     "height": 69
    },
    "id": "KQfk4N2j3Fq6",
    "outputId": "4164c21c-7398-43d7-df26-6d379ef998e7"
   },
   "outputs": [
    {
     "data": {
      "text/plain": [
       "\"Mecha, humanoid robots seemingly capable of complex thought but lacking in emotions, have been created.In Madison, New Jersey, David, a prototype Mecha child capable of experiencing love, is given to Henry Swinton and his wife Monica, whose son Martin contracted a rare disease and has been placed in suspended animation.\\nDavid grabs onto Martin, and they both fall into the pool.\\nMartin is saved before he drowns, and Henry convinces Monica to return David to his creators to be destroyed.\\nWith Teddy as his only companion, David recalls The Adventures of Pinocchio and decides to find the Blue Fairy so that she may turn him into a real boy, which he believes will win back Monica's love.David and Teddy are captured by a Flesh Fair, where obsolete Mecha are destroyed before jeering crowds.\\nDavid and Teddy take control of the aircraft to see the Fairy, which turns out to be a statue from an attraction on Coney Island.\\nBelieving the Blue Fairy to be real, David asks the statue to turn him into a real boy, and repeats this request until his internal power source is depleted.Two thousand years later, humans are extinct and Manhattan is buried under glacial ice.\""
      ]
     },
     "execution_count": 16,
     "metadata": {},
     "output_type": "execute_result"
    }
   ],
   "source": [
    "summary_txt"
   ]
  },
  {
   "cell_type": "markdown",
   "metadata": {
    "id": "ZXsZfKDJ3R-4"
   },
   "source": [
    "\n",
    "How to Get the Result as A List of String\n",
    "\n",
    "split=True\n",
    "\n"
   ]
  },
  {
   "cell_type": "code",
   "execution_count": 17,
   "metadata": {
    "colab": {
     "base_uri": "https://localhost:8080/"
    },
    "id": "bHEnOecR3MkA",
    "outputId": "cb2dd9bc-d1db-40c6-ee23-94cccfc069c6"
   },
   "outputs": [
    {
     "data": {
      "text/plain": [
       "['Mecha, humanoid robots seemingly capable of complex thought but lacking in emotions, have been created.In Madison, New Jersey, David, a prototype Mecha child capable of experiencing love, is given to Henry Swinton and his wife Monica, whose son Martin contracted a rare disease and has been placed in suspended animation.',\n",
       " 'David grabs onto Martin, and they both fall into the pool.',\n",
       " 'Martin is saved before he drowns, and Henry convinces Monica to return David to his creators to be destroyed.',\n",
       " \"With Teddy as his only companion, David recalls The Adventures of Pinocchio and decides to find the Blue Fairy so that she may turn him into a real boy, which he believes will win back Monica's love.David and Teddy are captured by a Flesh Fair, where obsolete Mecha are destroyed before jeering crowds.\",\n",
       " 'David and Teddy take control of the aircraft to see the Fairy, which turns out to be a statue from an attraction on Coney Island.',\n",
       " 'Believing the Blue Fairy to be real, David asks the statue to turn him into a real boy, and repeats this request until his internal power source is depleted.Two thousand years later, humans are extinct and Manhattan is buried under glacial ice.']"
      ]
     },
     "execution_count": 17,
     "metadata": {},
     "output_type": "execute_result"
    }
   ],
   "source": [
    "summarize(mytext,split=True)"
   ]
  },
  {
   "cell_type": "markdown",
   "metadata": {
    "id": "y9V-4Ows3knT"
   },
   "source": [
    "\n",
    "How to Set the Amount of Text You Want As Summary\n",
    "ratio\n",
    "- default is 0.2 or 20%\n",
    "word_count"
   ]
  },
  {
   "cell_type": "code",
   "execution_count": 18,
   "metadata": {
    "colab": {
     "base_uri": "https://localhost:8080/",
     "height": 120
    },
    "id": "b_iE4nGM3Mln",
    "outputId": "640f05df-ce55-4240-d95a-e25b53005848"
   },
   "outputs": [
    {
     "data": {
      "text/plain": [
       "\"Mecha, humanoid robots seemingly capable of complex thought but lacking in emotions, have been created.In Madison, New Jersey, David, a prototype Mecha child capable of experiencing love, is given to Henry Swinton and his wife Monica, whose son Martin contracted a rare disease and has been placed in suspended animation.\\nMonica feels uneasy with David, but eventually warms to him and activates his imprinting protocol, causing him to have an enduring, childlike love for her.\\nDavid seeks to have Monica express the same love towards him.\\nMartin becomes jealous of David, and taunts him to perform worrisome acts, such as cutting off locks of Monica's hair while she is sleeping.\\nDavid grabs onto Martin, and they both fall into the pool.\\nMartin is saved before he drowns, and Henry convinces Monica to return David to his creators to be destroyed.\\nWith Teddy as his only companion, David recalls The Adventures of Pinocchio and decides to find the Blue Fairy so that she may turn him into a real boy, which he believes will win back Monica's love.David and Teddy are captured by a Flesh Fair, where obsolete Mecha are destroyed before jeering crowds.\\nDavid, Teddy and Joe go to the decadent resort town of Rouge City, where Dr. Know, a holographic answer engine, directs them to the top of Rockefeller Center in the flooded ruins of Manhattan and has also provided fairy tale information interpreted by David as suggesting that a Blue Fairy has the power to help him.\\nWhile underwater, David catches sight of a figure resembling the Blue Fairy before Joe rescues him in an amphibious aircraft.\\nBefore David can explain, Joe is captured via electromagnet by authorities.\\nDavid and Teddy take control of the aircraft to see the Fairy, which turns out to be a statue from an attraction on Coney Island.\\nBelieving the Blue Fairy to be real, David asks the statue to turn him into a real boy, and repeats this request until his internal power source is depleted.Two thousand years later, humans are extinct and Manhattan is buried under glacial ice.\\nDavid walks to the frozen Blue Fairy statue, which collapses when he touches it.\\nThe Specialists reconstruct the Swinton family home from Davids memories and explain to him, via an interactive image of the Blue Fairy, that it is impossible to make David a real boy.\\nHowever, at David's insistence they use their scientific knowledge to recreate Monica through genetic material from the strand of hair that Teddy kept.\""
      ]
     },
     "execution_count": 18,
     "metadata": {},
     "output_type": "execute_result"
    }
   ],
   "source": [
    "# Get 50% of summary output\n",
    "summarize(mytext,ratio=0.5)"
   ]
  },
  {
   "cell_type": "code",
   "execution_count": 19,
   "metadata": {
    "colab": {
     "base_uri": "https://localhost:8080/",
     "height": 69
    },
    "id": "nu78Ts0a3MoG",
    "outputId": "5541c62a-318f-4dee-b339-8dd9f8dc1833"
   },
   "outputs": [
    {
     "data": {
      "text/plain": [
       "\"Mecha, humanoid robots seemingly capable of complex thought but lacking in emotions, have been created.In Madison, New Jersey, David, a prototype Mecha child capable of experiencing love, is given to Henry Swinton and his wife Monica, whose son Martin contracted a rare disease and has been placed in suspended animation.\\nDavid grabs onto Martin, and they both fall into the pool.\\nMartin is saved before he drowns, and Henry convinces Monica to return David to his creators to be destroyed.\\nWith Teddy as his only companion, David recalls The Adventures of Pinocchio and decides to find the Blue Fairy so that she may turn him into a real boy, which he believes will win back Monica's love.David and Teddy are captured by a Flesh Fair, where obsolete Mecha are destroyed before jeering crowds.\\nDavid and Teddy take control of the aircraft to see the Fairy, which turns out to be a statue from an attraction on Coney Island.\\nBelieving the Blue Fairy to be real, David asks the statue to turn him into a real boy, and repeats this request until his internal power source is depleted.Two thousand years later, humans are extinct and Manhattan is buried under glacial ice.\""
      ]
     },
     "execution_count": 19,
     "metadata": {},
     "output_type": "execute_result"
    }
   ],
   "source": [
    "# Get 20% of summary output\n",
    "summarize(mytext,ratio=0.2)"
   ]
  },
  {
   "cell_type": "markdown",
   "metadata": {
    "id": "q1HR6-V63zov"
   },
   "source": [
    "\n",
    "Narrative\n",
    "\n",
    "Noticed that the 0.2 or 20% gave us the same result as the first summary\n",
    "\n",
    "How to Get the Maximum amount of words in the summary.\n",
    "\n",
    "word_count"
   ]
  },
  {
   "cell_type": "code",
   "execution_count": 20,
   "metadata": {
    "colab": {
     "base_uri": "https://localhost:8080/",
     "height": 69
    },
    "id": "4TNYdFUv3Mqi",
    "outputId": "72cb9ab8-f305-48a2-9cb3-69a9702945f6"
   },
   "outputs": [
    {
     "data": {
      "text/plain": [
       "\"With Teddy as his only companion, David recalls The Adventures of Pinocchio and decides to find the Blue Fairy so that she may turn him into a real boy, which he believes will win back Monica's love.David and Teddy are captured by a Flesh Fair, where obsolete Mecha are destroyed before jeering crowds.\""
      ]
     },
     "execution_count": 20,
     "metadata": {},
     "output_type": "execute_result"
    }
   ],
   "source": [
    "# Words about 50\n",
    "summarize(mytext,word_count=50)"
   ]
  },
  {
   "cell_type": "code",
   "execution_count": 21,
   "metadata": {
    "id": "JPQWb3Jq3MtE"
   },
   "outputs": [],
   "source": [
    "summary_txt2 = summarize(mytext)"
   ]
  },
  {
   "cell_type": "code",
   "execution_count": 22,
   "metadata": {
    "colab": {
     "base_uri": "https://localhost:8080/"
    },
    "id": "oVTWcVvr3MwW",
    "outputId": "8183bb8c-1368-431c-9857-9b372fee8a05"
   },
   "outputs": [
    {
     "data": {
      "text/plain": [
       "200"
      ]
     },
     "execution_count": 22,
     "metadata": {},
     "output_type": "execute_result"
    }
   ],
   "source": [
    "# Number of Words\n",
    "len(summary_txt2.split())"
   ]
  },
  {
   "cell_type": "markdown",
   "metadata": {
    "id": "af42NvuG4Pcj"
   },
   "source": [
    "\n",
    "How to Find the Position of the Extracted Text\n",
    "\n",
    "+"
   ]
  },
  {
   "cell_type": "code",
   "execution_count": 23,
   "metadata": {
    "colab": {
     "base_uri": "https://localhost:8080/",
     "height": 52
    },
    "id": "wByamlPk4bCO",
    "outputId": "25af44aa-f385-4dda-8d1b-9d35af3518c4"
   },
   "outputs": [],
   "source": [
    "docx = open('C:/Users/DBSOM-L490-06/OneDrive/Documents/example.txt').read()\n"
   ]
  },
  {
   "cell_type": "code",
   "execution_count": 24,
   "metadata": {
    "colab": {
     "base_uri": "https://localhost:8080/",
     "height": 52
    },
    "id": "08myj_0z4n1u",
    "outputId": "ce23c005-7615-4724-f2f6-b8a23c704e13"
   },
   "outputs": [
    {
     "data": {
      "text/plain": [
       "\"Java is a high-level, class-based, object-oriented programming language that is designed to have as few implementation dependencies as possible. It is a general-purpose programming language intended to let programmers write once, run anywhere (WORA),[17] meaning that compiled Java code can run on all platforms that support Java without the need for recompilation.[18] Java applications are typically compiled to bytecode that can run on any Java virtual machine (JVM) regardless of the underlying computer architecture. The syntax of Java is similar to C and C++, but has fewer low-level facilities than either of them. The Java runtime provides dynamic capabilities (such as reflection and runtime code modification) that are typically not available in traditional compiled languages. As of 2019, Java was one of the most popular programming languages in use according to GitHub,[19][20] particularly for client-server web applications, with a reported 9 million developers.[21]\\nJava was originally developed by James Gosling at Sun Microsystems (which has since been acquired by Oracle) and released in 1995 as a core component of Sun Microsystems' Java platform. The original and reference implementation Java compilers, virtual machines, and class libraries were originally released by Sun under proprietary licenses. As of May 2007, in compliance with the specifications of the Java Community Process, Sun had relicensed most of its Java technologies under the GPL-2.0-only license. Oracle offers its own HotSpot Java Virtual Machine, however the official reference implementation is the OpenJDK JVM which is free open-source software and used by most developers and is the default JVM for almost all Linux distributions.\\nAs of October 2021, Java 17 is the latest version. Java 8, 11 and 17 are the current long-term support (LTS) versions. Oracle released the last zero-cost public update for the legacy version Java 8 LTS in January 2019 for commercial use, although it will otherwise still support Java 8 with public updates for personal use indefinitely. Other vendors have begun to offer zero-cost builds of OpenJDK 8 and 11 that are still receiving security and other upgrades.\\nOracle (and others) highly recommend uninstalling outdated and unsupported versions of Java, because of serious risks due to unresolved security issues.[22] Oracle advises its users to immediately transition to a supported version, such as one of the LTS versions (8, 11, 17).\\n\\n\""
      ]
     },
     "execution_count": 24,
     "metadata": {},
     "output_type": "execute_result"
    }
   ],
   "source": [
    "docx"
   ]
  },
  {
   "cell_type": "code",
   "execution_count": 25,
   "metadata": {},
   "outputs": [],
   "source": [
    "mysummary = summarize(docx,ratio=0.1)"
   ]
  },
  {
   "cell_type": "code",
   "execution_count": 26,
   "metadata": {
    "colab": {
     "base_uri": "https://localhost:8080/"
    },
    "id": "hu8YX-Nu4sc1",
    "outputId": "d7ab7c55-17ad-4f61-d8a9-99a13d269387"
   },
   "outputs": [
    {
     "data": {
      "text/plain": [
       "True"
      ]
     },
     "execution_count": 26,
     "metadata": {},
     "output_type": "execute_result"
    }
   ],
   "source": [
    "mysummary in docx"
   ]
  },
  {
   "cell_type": "code",
   "execution_count": 27,
   "metadata": {
    "colab": {
     "base_uri": "https://localhost:8080/"
    },
    "id": "UBBGTC_M4x65",
    "outputId": "11515e93-a22a-4adc-ec95-ee86c4010a04"
   },
   "outputs": [
    {
     "data": {
      "text/plain": [
       "1168"
      ]
     },
     "execution_count": 27,
     "metadata": {},
     "output_type": "execute_result"
    }
   ],
   "source": [
    "# Method 1 Using Find\n",
    "docx.find(mysummary)"
   ]
  },
  {
   "cell_type": "code",
   "execution_count": 28,
   "metadata": {
    "colab": {
     "base_uri": "https://localhost:8080/"
    },
    "id": "rO0Yd0kC42oM",
    "outputId": "14c93a55-1c40-481e-e9af-5e3f4625fc92"
   },
   "outputs": [
    {
     "data": {
      "text/plain": [
       "1168"
      ]
     },
     "execution_count": 28,
     "metadata": {},
     "output_type": "execute_result"
    }
   ],
   "source": [
    "# Method 2 Using Index\n",
    "docx.index(mysummary)"
   ]
  },
  {
   "cell_type": "code",
   "execution_count": 29,
   "metadata": {
    "colab": {
     "base_uri": "https://localhost:8080/",
     "height": 35
    },
    "id": "xSY-1MxM42rd",
    "outputId": "2b990784-fc23-4ab6-922a-3546c0590586"
   },
   "outputs": [
    {
     "data": {
      "text/plain": [
       "'The original and reference implementation Java compilers, virtual machines, and class libraries were originally released by Sun under proprietary licenses. As of May 2007, in compliance with the specifications of the Java Community Process, Sun had relicensed most of its Java technologies under the GPL-2.0-only license. Oracle offers its own HotSpot Java Virtual Machine, however the official reference implementation is the OpenJDK JVM which is free open-source software and used by most developers and is the default JVM for almost all Linux distributions.\\nAs of October 2021, Java 17 is the latest version. Java 8, 11 and 17 are the current long-term support (LTS) versions. Oracle released the last zero-cost public update for the legacy version Java 8 LTS in January 2019 for commercial use, although it will otherwise still support Java 8 with public updates for personal use indefinitely. Other vendors have begun to offer zero-cost builds of OpenJDK 8 and 11 that are still receiving security and other upgrades.\\nOracle (and others) highly recommend uninstalling outdated and unsupported versions of Java, because of serious risks due to unresolved security issues.[22] Oracle advises its users to immediately transition to a supported version, such as one of the LTS versions (8, 11, 17).\\n\\n'"
      ]
     },
     "execution_count": 29,
     "metadata": {},
     "output_type": "execute_result"
    }
   ],
   "source": [
    "# Start of the Extracted Text\n",
    "docx[1168:]"
   ]
  },
  {
   "cell_type": "markdown",
   "metadata": {
    "id": "hQp2InSd5AUi"
   },
   "source": [
    "\n",
    "Method 3\n",
    "\n",
    "Split Sentences\n",
    "\n",
    "Find Location in Our List of sentences"
   ]
  },
  {
   "cell_type": "code",
   "execution_count": 30,
   "metadata": {
    "id": "1_MbWiFL5DzI"
   },
   "outputs": [],
   "source": [
    "from gensim.summarization.textcleaner import split_sentences"
   ]
  },
  {
   "cell_type": "code",
   "execution_count": 31,
   "metadata": {
    "colab": {
     "base_uri": "https://localhost:8080/"
    },
    "id": "0OV2fdY85HR5",
    "outputId": "4bf70cd2-1678-4ac6-bb03-9acd7f84a0a9"
   },
   "outputs": [
    {
     "data": {
      "text/plain": [
       "['Java is a high-level, class-based, object-oriented programming language that is designed to have as few implementation dependencies as possible.',\n",
       " 'It is a general-purpose programming language intended to let programmers write once, run anywhere (WORA),[17] meaning that compiled Java code can run on all platforms that support Java without the need for recompilation.[18] Java applications are typically compiled to bytecode that can run on any Java virtual machine (JVM) regardless of the underlying computer architecture.',\n",
       " 'The syntax of Java is similar to C and C++, but has fewer low-level facilities than either of them.',\n",
       " 'The Java runtime provides dynamic capabilities (such as reflection and runtime code modification) that are typically not available in traditional compiled languages.',\n",
       " 'As of 2019, Java was one of the most popular programming languages in use according to GitHub,[19][20] particularly for client-server web applications, with a reported 9 million developers.[21]',\n",
       " \"Java was originally developed by James Gosling at Sun Microsystems (which has since been acquired by Oracle) and released in 1995 as a core component of Sun Microsystems' Java platform.\",\n",
       " 'The original and reference implementation Java compilers, virtual machines, and class libraries were originally released by Sun under proprietary licenses.',\n",
       " 'As of May 2007, in compliance with the specifications of the Java Community Process, Sun had relicensed most of its Java technologies under the GPL-2.0-only license.',\n",
       " 'Oracle offers its own HotSpot Java Virtual Machine, however the official reference implementation is the OpenJDK JVM which is free open-source software and used by most developers and is the default JVM for almost all Linux distributions.',\n",
       " 'As of October 2021, Java 17 is the latest version.',\n",
       " 'Java 8, 11 and 17 are the current long-term support (LTS) versions.',\n",
       " 'Oracle released the last zero-cost public update for the legacy version Java 8 LTS in January 2019 for commercial use, although it will otherwise still support Java 8 with public updates for personal use indefinitely.',\n",
       " 'Other vendors have begun to offer zero-cost builds of OpenJDK 8 and 11 that are still receiving security and other upgrades.',\n",
       " 'Oracle (and others) highly recommend uninstalling outdated and unsupported versions of Java, because of serious risks due to unresolved security issues.[22] Oracle advises its users to immediately transition to a supported version, such as one of the LTS versions (8, 11, 17).']"
      ]
     },
     "execution_count": 31,
     "metadata": {},
     "output_type": "execute_result"
    }
   ],
   "source": [
    "# Split Sentences\n",
    "split_sentences(docx)"
   ]
  },
  {
   "cell_type": "code",
   "execution_count": 32,
   "metadata": {
    "id": "XwYM4CYZ5HpN"
   },
   "outputs": [],
   "source": [
    "# List of all sentences\n",
    "all_sentences = split_sentences(docx)"
   ]
  },
  {
   "cell_type": "code",
   "execution_count": 33,
   "metadata": {
    "colab": {
     "base_uri": "https://localhost:8080/"
    },
    "id": "BgVnD8ow5Q-5",
    "outputId": "d9e0ebf6-fb76-406c-ec07-ca0e10c4c6ef"
   },
   "outputs": [
    {
     "data": {
      "text/plain": [
       "True"
      ]
     },
     "execution_count": 33,
     "metadata": {},
     "output_type": "execute_result"
    }
   ],
   "source": [
    "# Is Our Summary in Our List\n",
    "mysummary in all_sentences"
   ]
  },
  {
   "cell_type": "code",
   "execution_count": 34,
   "metadata": {
    "colab": {
     "base_uri": "https://localhost:8080/"
    },
    "id": "TdltuBzF5RI4",
    "outputId": "a157420e-f90b-404e-ac34-5f5d41b6f04c"
   },
   "outputs": [
    {
     "data": {
      "text/plain": [
       "6"
      ]
     },
     "execution_count": 34,
     "metadata": {},
     "output_type": "execute_result"
    }
   ],
   "source": [
    "# Location of our Summary\n",
    "all_sentences.index(mysummary)"
   ]
  },
  {
   "cell_type": "code",
   "execution_count": 35,
   "metadata": {
    "colab": {
     "base_uri": "https://localhost:8080/",
     "height": 35
    },
    "id": "AXdHQKjC5ZtE",
    "outputId": "5fbcf0e3-3b09-43ca-9f92-268acb09d9da"
   },
   "outputs": [
    {
     "data": {
      "text/plain": [
       "'Oracle offers its own HotSpot Java Virtual Machine, however the official reference implementation is the OpenJDK JVM which is free open-source software and used by most developers and is the default JVM for almost all Linux distributions.'"
      ]
     },
     "execution_count": 35,
     "metadata": {},
     "output_type": "execute_result"
    }
   ],
   "source": [
    "# Actural Location\n",
    "all_sentences[8]"
   ]
  },
  {
   "cell_type": "markdown",
   "metadata": {
    "id": "kZO8rOW6W2Ck"
   },
   "source": [
    "Import the required module for text to speech conversion."
   ]
  },
  {
   "cell_type": "code",
   "execution_count": 36,
   "metadata": {
    "colab": {
     "base_uri": "https://localhost:8080/"
    },
    "id": "1zqrSyrXWSfq",
    "outputId": "44a3609a-9057-49c7-d6e9-0ee2987a2476"
   },
   "outputs": [
    {
     "name": "stdout",
     "output_type": "stream",
     "text": [
      "Requirement already satisfied: gTTS in c:\\users\\dbsom-l490-06\\anaconda3\\lib\\site-packages (2.2.3)\n",
      "Requirement already satisfied: click in c:\\users\\dbsom-l490-06\\anaconda3\\lib\\site-packages (from gTTS) (8.0.1)\n",
      "Requirement already satisfied: requests in c:\\users\\dbsom-l490-06\\anaconda3\\lib\\site-packages (from gTTS) (2.25.1)\n",
      "Requirement already satisfied: six in c:\\users\\dbsom-l490-06\\anaconda3\\lib\\site-packages (from gTTS) (1.16.0)\n",
      "Requirement already satisfied: importlib-metadata in c:\\users\\dbsom-l490-06\\anaconda3\\lib\\site-packages (from click->gTTS) (3.10.0)\n",
      "Requirement already satisfied: colorama in c:\\users\\dbsom-l490-06\\anaconda3\\lib\\site-packages (from click->gTTS) (0.4.4)\n",
      "Requirement already satisfied: typing-extensions>=3.6.4 in c:\\users\\dbsom-l490-06\\anaconda3\\lib\\site-packages (from importlib-metadata->click->gTTS) (3.10.0.0)\n",
      "Requirement already satisfied: zipp>=0.5 in c:\\users\\dbsom-l490-06\\anaconda3\\lib\\site-packages (from importlib-metadata->click->gTTS) (3.5.0)\n",
      "Requirement already satisfied: certifi>=2017.4.17 in c:\\users\\dbsom-l490-06\\anaconda3\\lib\\site-packages (from requests->gTTS) (2021.5.30)\n",
      "Requirement already satisfied: urllib3<1.27,>=1.21.1 in c:\\users\\dbsom-l490-06\\anaconda3\\lib\\site-packages (from requests->gTTS) (1.26.6)\n",
      "Requirement already satisfied: idna<3,>=2.5 in c:\\users\\dbsom-l490-06\\anaconda3\\lib\\site-packages (from requests->gTTS) (2.10)\n",
      "Requirement already satisfied: chardet<5,>=3.0.2 in c:\\users\\dbsom-l490-06\\anaconda3\\lib\\site-packages (from requests->gTTS) (4.0.0)\n"
     ]
    }
   ],
   "source": [
    "!pip install gTTS"
   ]
  },
  {
   "cell_type": "code",
   "execution_count": 37,
   "metadata": {
    "id": "C5UcBO_FWSos"
   },
   "outputs": [],
   "source": [
    "from gtts import gTTS"
   ]
  },
  {
   "cell_type": "code",
   "execution_count": 38,
   "metadata": {
    "id": "NeCJq_igXQRG"
   },
   "outputs": [],
   "source": [
    "import os"
   ]
  },
  {
   "cell_type": "code",
   "execution_count": 39,
   "metadata": {
    "id": "llZMnYj-XVY3"
   },
   "outputs": [],
   "source": [
    "# Language in which you want to convert\n",
    "language = 'en'"
   ]
  },
  {
   "cell_type": "code",
   "execution_count": 44,
   "metadata": {
    "id": "pbHUrbv5X92S"
   },
   "outputs": [],
   "source": [
    "# Passing the text and languages\n",
    "# slow=False tells the module that the converted audio should have high speed.\n",
    "myobj = gTTS(text=summary_txt2, lang=language, slow=False)"
   ]
  },
  {
   "cell_type": "code",
   "execution_count": 45,
   "metadata": {
    "id": "7Kxqbe7zaxQJ"
   },
   "outputs": [],
   "source": [
    "#Save the converted audio in a mp3 file named hello\n",
    "myobj.save(\"Hello.mp3\")"
   ]
  },
  {
   "cell_type": "code",
   "execution_count": 46,
   "metadata": {
    "colab": {
     "base_uri": "https://localhost:8080/"
    },
    "id": "BIlCUAO7bHlr",
    "outputId": "c0c70138-c0d0-4d03-8f2d-bfedd68614e5",
    "scrolled": true
   },
   "outputs": [
    {
     "data": {
      "text/plain": [
       "1"
      ]
     },
     "execution_count": 46,
     "metadata": {},
     "output_type": "execute_result"
    }
   ],
   "source": [
    "#Playing the converted file\n",
    "os.system(\"mpg321 Hello.mp3\")"
   ]
  },
  {
   "cell_type": "code",
   "execution_count": null,
   "metadata": {
    "colab": {
     "base_uri": "https://localhost:8080/"
    },
    "id": "oNWhxE3ybjBA",
    "outputId": "152ce21b-59ad-45dc-bc0c-fa3101cd2ac9"
   },
   "outputs": [],
   "source": [
    "os.system(\"Hello.mp3\")"
   ]
  },
  {
   "cell_type": "code",
   "execution_count": null,
   "metadata": {},
   "outputs": [],
   "source": []
  }
 ],
 "metadata": {
  "colab": {
   "collapsed_sections": [],
   "name": "Untitled2.ipynb",
   "provenance": []
  },
  "kernelspec": {
   "display_name": "Python 3",
   "language": "python",
   "name": "python3"
  },
  "language_info": {
   "codemirror_mode": {
    "name": "ipython",
    "version": 3
   },
   "file_extension": ".py",
   "mimetype": "text/x-python",
   "name": "python",
   "nbconvert_exporter": "python",
   "pygments_lexer": "ipython3",
   "version": "3.7.6"
  }
 },
 "nbformat": 4,
 "nbformat_minor": 1
}
